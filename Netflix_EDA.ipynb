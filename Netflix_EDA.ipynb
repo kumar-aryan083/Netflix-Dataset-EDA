{
 "cells": [
  {
   "cell_type": "code",
   "execution_count": 2,
   "id": "0cdcedb7-e5bc-4dae-a94a-cacbfe235fae",
   "metadata": {},
   "outputs": [],
   "source": [
    "import numpy as np\n",
    "import pandas as pd\n",
    "import matplotlib.pyplot as plt\n",
    "import seaborn as sns\n",
    "\n",
    "pd.set_option(\"display.max_columns\", 100)\n",
    "pd.set_option(\"display.width\", 120)\n",
    "\n",
    "# make plots a bit larger by default\n",
    "plt.rcParams[\"figure.figsize\"] = (8,4)"
   ]
  },
  {
   "cell_type": "code",
   "execution_count": 31,
   "id": "a141cfab-f785-498a-942b-830658b39b03",
   "metadata": {},
   "outputs": [],
   "source": [
    "df = pd.read_csv(\"netflix_titles.csv\")"
   ]
  },
  {
   "cell_type": "code",
   "execution_count": 24,
   "id": "d11e44eb-1356-4b8d-918d-9a1ad8ff8450",
   "metadata": {},
   "outputs": [
    {
     "name": "stdout",
     "output_type": "stream",
     "text": [
      "(8807, 12)\n",
      "show_id         object\n",
      "type            object\n",
      "title           object\n",
      "director        object\n",
      "cast            object\n",
      "country         object\n",
      "date_added      object\n",
      "release_year     int64\n",
      "rating          object\n",
      "duration        object\n",
      "listed_in       object\n",
      "description     object\n",
      "dtype: object\n",
      "  show_id     type                  title         director                                               cast  \\\n",
      "0      s1    Movie   Dick Johnson Is Dead  Kirsten Johnson                                                NaN   \n",
      "1      s2  TV Show          Blood & Water              NaN  Ama Qamata, Khosi Ngema, Gail Mabalane, Thaban...   \n",
      "2      s3  TV Show              Ganglands  Julien Leclercq  Sami Bouajila, Tracy Gotoas, Samuel Jouy, Nabi...   \n",
      "3      s4  TV Show  Jailbirds New Orleans              NaN                                                NaN   \n",
      "4      s5  TV Show           Kota Factory              NaN  Mayur More, Jitendra Kumar, Ranjan Raj, Alam K...   \n",
      "\n",
      "         country          date_added  release_year rating   duration  \\\n",
      "0  United States  September 25, 2021          2020  PG-13     90 min   \n",
      "1   South Africa  September 24, 2021          2021  TV-MA  2 Seasons   \n",
      "2            NaN  September 24, 2021          2021  TV-MA   1 Season   \n",
      "3            NaN  September 24, 2021          2021  TV-MA   1 Season   \n",
      "4          India  September 24, 2021          2021  TV-MA  2 Seasons   \n",
      "\n",
      "                                           listed_in                                        description  \n",
      "0                                      Documentaries  As her father nears the end of his life, filmm...  \n",
      "1    International TV Shows, TV Dramas, TV Mysteries  After crossing paths at a party, a Cape Town t...  \n",
      "2  Crime TV Shows, International TV Shows, TV Act...  To protect his family from a powerful drug lor...  \n",
      "3                             Docuseries, Reality TV  Feuds, flirtations and toilet talk go down amo...  \n",
      "4  International TV Shows, Romantic TV Shows, TV ...  In a city of coaching centers known to train I...  \n",
      "     show_id     type        title         director                                               cast        country  \\\n",
      "8802   s8803    Movie       Zodiac    David Fincher  Mark Ruffalo, Jake Gyllenhaal, Robert Downey J...  United States   \n",
      "8803   s8804  TV Show  Zombie Dumb              NaN                                                NaN            NaN   \n",
      "8804   s8805    Movie   Zombieland  Ruben Fleischer  Jesse Eisenberg, Woody Harrelson, Emma Stone, ...  United States   \n",
      "8805   s8806    Movie         Zoom     Peter Hewitt  Tim Allen, Courteney Cox, Chevy Chase, Kate Ma...  United States   \n",
      "8806   s8807    Movie       Zubaan      Mozez Singh  Vicky Kaushal, Sarah-Jane Dias, Raaghav Chanan...          India   \n",
      "\n",
      "             date_added  release_year rating   duration                                       listed_in  \\\n",
      "8802  November 20, 2019          2007      R    158 min                  Cult Movies, Dramas, Thrillers   \n",
      "8803       July 1, 2019          2018  TV-Y7  2 Seasons          Kids' TV, Korean TV Shows, TV Comedies   \n",
      "8804   November 1, 2019          2009      R     88 min                         Comedies, Horror Movies   \n",
      "8805   January 11, 2020          2006     PG     88 min              Children & Family Movies, Comedies   \n",
      "8806      March 2, 2019          2015  TV-14    111 min  Dramas, International Movies, Music & Musicals   \n",
      "\n",
      "                                            description  \n",
      "8802  A political cartoonist, a crime reporter and a...  \n",
      "8803  While living alone in a spooky town, a young g...  \n",
      "8804  Looking to survive in a world taken over by zo...  \n",
      "8805  Dragged from civilian life, a former superhero...  \n",
      "8806  A scrappy but poor boy worms his way into a ty...  \n",
      "<class 'pandas.core.frame.DataFrame'>\n",
      "RangeIndex: 8807 entries, 0 to 8806\n",
      "Data columns (total 12 columns):\n",
      " #   Column        Non-Null Count  Dtype \n",
      "---  ------        --------------  ----- \n",
      " 0   show_id       8807 non-null   object\n",
      " 1   type          8807 non-null   object\n",
      " 2   title         8807 non-null   object\n",
      " 3   director      6173 non-null   object\n",
      " 4   cast          7982 non-null   object\n",
      " 5   country       7976 non-null   object\n",
      " 6   date_added    8797 non-null   object\n",
      " 7   release_year  8807 non-null   int64 \n",
      " 8   rating        8803 non-null   object\n",
      " 9   duration      8804 non-null   object\n",
      " 10  listed_in     8807 non-null   object\n",
      " 11  description   8807 non-null   object\n",
      "dtypes: int64(1), object(11)\n",
      "memory usage: 825.8+ KB\n",
      "None\n",
      "show_id         8807\n",
      "title           8807\n",
      "description     8775\n",
      "cast            7692\n",
      "director        4528\n",
      "date_added      1767\n",
      "country          748\n",
      "listed_in        514\n",
      "duration         220\n",
      "release_year      74\n",
      "rating            17\n",
      "type               2\n",
      "dtype: int64\n",
      "Duplicate Values\n"
     ]
    },
    {
     "data": {
      "text/plain": [
       "0"
      ]
     },
     "execution_count": 24,
     "metadata": {},
     "output_type": "execute_result"
    }
   ],
   "source": [
    "print(df.shape)\n",
    "print(df.dtypes)\n",
    "print(df.head())\n",
    "print(df.tail())\n",
    "print(df.info())\n",
    "# Uniqueness\n",
    "print(df.nunique().sort_values(ascending=False))\n",
    "# Missing Values\n",
    "df.isna().sum().sort_values(ascending=False)\n",
    "# Duplicate Values\n",
    "df.duplicated().sum()"
   ]
  },
  {
   "cell_type": "code",
   "execution_count": 29,
   "id": "547c84fd-cbf4-4471-9a69-1e58304117a9",
   "metadata": {},
   "outputs": [
    {
     "data": {
      "text/plain": [
       "['show_id',\n",
       " 'type',\n",
       " 'title',\n",
       " 'director',\n",
       " 'cast',\n",
       " 'country',\n",
       " 'date_added',\n",
       " 'release_year',\n",
       " 'rating',\n",
       " 'duration',\n",
       " 'listed_in',\n",
       " 'description']"
      ]
     },
     "execution_count": 29,
     "metadata": {},
     "output_type": "execute_result"
    }
   ],
   "source": [
    "df.columns = (df.columns.str.strip().str.lower().str.replace(\" \", \"_\"))\n",
    "df.columns.tolist()"
   ]
  },
  {
   "cell_type": "code",
   "execution_count": null,
   "id": "32d609e4-ee1d-42ff-b291-c65294a5a517",
   "metadata": {},
   "outputs": [],
   "source": []
  }
 ],
 "metadata": {
  "kernelspec": {
   "display_name": "Python 3 (ipykernel)",
   "language": "python",
   "name": "python3"
  },
  "language_info": {
   "codemirror_mode": {
    "name": "ipython",
    "version": 3
   },
   "file_extension": ".py",
   "mimetype": "text/x-python",
   "name": "python",
   "nbconvert_exporter": "python",
   "pygments_lexer": "ipython3",
   "version": "3.12.7"
  }
 },
 "nbformat": 4,
 "nbformat_minor": 5
}
